{
 "cells": [
  {
   "cell_type": "code",
   "execution_count": 10,
   "id": "6a0001b3",
   "metadata": {},
   "outputs": [
    {
     "name": "stdout",
     "output_type": "stream",
     "text": [
      "Overwriting aplicacao.py\n"
     ]
    }
   ],
   "source": [
    "%%writefile aplicacao.py\n",
    "import streamlit as st\n",
    "import plotly.graph_objs as go\n",
    "import pandas as pd\n",
    "st.text('COVID MUNDIAL 2020')\n",
    "\n",
    "data_url = ('https://raw.githubusercontent.com/nikkisharma536/streamlit_app/master/covid.csv')\n",
    "\n",
    "data = pd.read_csv(data_url)\n",
    "data = data.rename(columns={'Latitude': 'latitude', 'Longitude': 'longitude'})\n",
    "\n",
    "df = data\n",
    "\n",
    "st.map(df) "
   ]
  },
  {
   "cell_type": "code",
   "execution_count": null,
   "id": "b98bd0fd",
   "metadata": {},
   "outputs": [],
   "source": []
  }
 ],
 "metadata": {
  "kernelspec": {
   "display_name": "Python 3",
   "language": "python",
   "name": "python3"
  },
  "language_info": {
   "codemirror_mode": {
    "name": "ipython",
    "version": 3
   },
   "file_extension": ".py",
   "mimetype": "text/x-python",
   "name": "python",
   "nbconvert_exporter": "python",
   "pygments_lexer": "ipython3",
   "version": "3.8.8"
  }
 },
 "nbformat": 4,
 "nbformat_minor": 5
}
