{
 "cells": [
  {
   "cell_type": "code",
   "execution_count": 1,
   "id": "6a0001b3",
   "metadata": {},
   "outputs": [
    {
     "name": "stdout",
     "output_type": "stream",
     "text": [
      "Overwriting aplicacao.py\n"
     ]
    }
   ],
   "source": [
    "%%writefile aplicacao.py\n",
    "import streamlit as st\n",
    "import plotly.graph_objs as go\n",
    "import pandas as pd\n",
    "\n",
    "st.text('COVID MUNDIAL 2020')\n",
    "\n",
    "data_url = ('https://raw.githubusercontent.com/nikkisharma536/streamlit_app/master/covid.csv')\n",
    "\n",
    "data = pd.read_csv(data_url)\n",
    "data = data.rename(columns={'Latitude': 'latitude', 'Longitude': 'longitude'})\n",
    "\n",
    "df = data\n",
    "\n",
    "st.map(df) "
   ]
  },
  {
   "cell_type": "code",
   "execution_count": 3,
   "id": "7562ed17",
   "metadata": {},
   "outputs": [
    {
     "name": "stderr",
     "output_type": "stream",
     "text": [
      "2021-06-04 01:15:58.844 WARNING root: \n",
      "  \u001b[33m\u001b[1mWarning:\u001b[0m to view this Streamlit app on a browser, run it with the following\n",
      "  command:\n",
      "\n",
      "    streamlit run aplicacao.py [ARGUMENTS]\n"
     ]
    }
   ],
   "source": [
    "run aplicacao.py"
   ]
  },
  {
   "cell_type": "code",
   "execution_count": 2,
   "id": "7abf8ba8",
   "metadata": {},
   "outputs": [
    {
     "ename": "SyntaxError",
     "evalue": "invalid syntax (<ipython-input-2-bcc68c20a78b>, line 1)",
     "output_type": "error",
     "traceback": [
      "\u001b[1;36m  File \u001b[1;32m\"<ipython-input-2-bcc68c20a78b>\"\u001b[1;36m, line \u001b[1;32m1\u001b[0m\n\u001b[1;33m    streamlit run aplicacao.py\u001b[0m\n\u001b[1;37m              ^\u001b[0m\n\u001b[1;31mSyntaxError\u001b[0m\u001b[1;31m:\u001b[0m invalid syntax\n"
     ]
    }
   ],
   "source": [
    "streamlit run aplicacao.py"
   ]
  },
  {
   "cell_type": "code",
   "execution_count": null,
   "id": "38d3b7cb",
   "metadata": {},
   "outputs": [],
   "source": []
  }
 ],
 "metadata": {
  "kernelspec": {
   "display_name": "Python 3",
   "language": "python",
   "name": "python3"
  },
  "language_info": {
   "codemirror_mode": {
    "name": "ipython",
    "version": 3
   },
   "file_extension": ".py",
   "mimetype": "text/x-python",
   "name": "python",
   "nbconvert_exporter": "python",
   "pygments_lexer": "ipython3",
   "version": "3.8.8"
  }
 },
 "nbformat": 4,
 "nbformat_minor": 5
}
